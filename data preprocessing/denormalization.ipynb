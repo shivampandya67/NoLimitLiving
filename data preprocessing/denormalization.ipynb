{
 "cells": [
  {
   "cell_type": "code",
   "execution_count": 7,
   "id": "808a9874-8354-4033-ad7b-a747605cc510",
   "metadata": {},
   "outputs": [
    {
     "name": "stdout",
     "output_type": "stream",
     "text": [
      "          GeoName  Year  All industry total  \\\n",
      "0       Adams, IN  2010           1068048.0   \n",
      "1       Adams, IN  2011           1152049.0   \n",
      "2       Adams, IN  2012           1221886.0   \n",
      "3       Adams, IN  2013           1331565.0   \n",
      "4       Adams, IN  2014           1441668.0   \n",
      "...           ...   ...                 ...   \n",
      "1099  Whitley, IN  2017           1397820.0   \n",
      "1100  Whitley, IN  2018           1600646.0   \n",
      "1101  Whitley, IN  2019           1612931.0   \n",
      "1102  Whitley, IN  2020           1550306.0   \n",
      "1103  Whitley, IN  2021           1967086.0   \n",
      "\n",
      "      Personal income (thousands of dollars)  Population (persons) 3/  \\\n",
      "0                                   975855.0                  34443.0   \n",
      "1                                  1078250.0                  34371.0   \n",
      "2                                  1148069.0                  34410.0   \n",
      "3                                  1195806.0                  34658.0   \n",
      "4                                  1240585.0                  34775.0   \n",
      "...                                      ...                      ...   \n",
      "1099                               1436211.0                  33703.0   \n",
      "1100                               1521706.0                  34003.0   \n",
      "1101                               1584985.0                  33830.0   \n",
      "1102                               1708073.0                  34338.0   \n",
      "1103                               1857664.0                  34492.0   \n",
      "\n",
      "      Total employment  Wages and salaries  \n",
      "0              18602.0            421960.0  \n",
      "1              18826.0            427067.0  \n",
      "2              19075.0            443977.0  \n",
      "3              19360.0            466014.0  \n",
      "4              20035.0            495729.0  \n",
      "...                ...                 ...  \n",
      "1099           16937.0            555053.0  \n",
      "1100           17454.0            597684.0  \n",
      "1101           17502.0            630151.0  \n",
      "1102           17351.0            646094.0  \n",
      "1103           17918.0            732914.0  \n",
      "\n",
      "[1104 rows x 7 columns]\n"
     ]
    }
   ],
   "source": [
    "import pandas as pd\n",
    "\n",
    "# Load the data from the file (assuming it's in a CSV format)\n",
    "data = pd.read_csv('merged_indiana_gdp_long_format.csv')\n",
    "\n",
    "# Reshape the data\n",
    "# Melt the dataset to bring year columns into a single column, 'Year'\n",
    "df_melted = pd.melt(data, \n",
    "                    id_vars=['GeoName', 'Description'], \n",
    "                    var_name='Year', \n",
    "                    value_name='Value')\n",
    "\n",
    "# Pivot the table to make the 'Description' values as columns\n",
    "df_pivot = df_melted.pivot_table(index=['GeoName', 'Year'], \n",
    "                                 columns='Description', \n",
    "                                 values='Value').reset_index()\n",
    "\n",
    "# Rename columns for better readability if needed\n",
    "df_pivot.columns.name = None\n",
    "\n",
    "# Save or display the reshaped data\n",
    "df_pivot.to_csv('reshaped_data.csv', index=False)\n",
    "\n",
    "# Print to verify\n",
    "print(df_pivot)\n"
   ]
  },
  {
   "cell_type": "code",
   "execution_count": null,
   "id": "3ea4d46a-0be9-4edc-b114-80501e3e815d",
   "metadata": {},
   "outputs": [],
   "source": []
  }
 ],
 "metadata": {
  "kernelspec": {
   "display_name": "Python 3 (ipykernel)",
   "language": "python",
   "name": "python3"
  },
  "language_info": {
   "codemirror_mode": {
    "name": "ipython",
    "version": 3
   },
   "file_extension": ".py",
   "mimetype": "text/x-python",
   "name": "python",
   "nbconvert_exporter": "python",
   "pygments_lexer": "ipython3",
   "version": "3.11.4"
  }
 },
 "nbformat": 4,
 "nbformat_minor": 5
}
