{
 "cells": [
  {
   "cell_type": "code",
   "execution_count": 6,
   "id": "1e71448b-0784-4a8c-860e-8dc05e3efca9",
   "metadata": {},
   "outputs": [
    {
     "name": "stderr",
     "output_type": "stream",
     "text": [
      "C:\\Users\\91903\\AppData\\Local\\Temp\\ipykernel_11944\\3219949519.py:27: FutureWarning: Setting an item of incompatible dtype is deprecated and will raise in a future error of pandas. Value '[1.17696210e-02 1.88604976e-01 6.28785511e-02 2.26328656e-03\n",
      " 1.75075274e-03 2.21182461e-02 1.24637183e-03 5.42693279e-03\n",
      " 1.28285390e-02 5.03294358e-02 5.93192042e-03 1.21745490e-02\n",
      " 3.98961847e-04 1.02018601e-02 2.18369643e-02 1.63652347e-02\n",
      " 1.15036085e-02 4.37627258e-02 2.41147491e-02 1.16628861e-01\n",
      " 5.05666414e-03 2.74220762e-02 4.51322509e-03 3.26237864e-03\n",
      " 5.30681320e-03 3.01439610e-02 2.78086381e-02 5.36376983e-03\n",
      " 1.50910608e-01 2.02787593e-02 9.28942902e-03 4.76202797e-02\n",
      " 1.10600015e-02 4.96251758e-02 1.28315347e-02 2.01719625e-02\n",
      " 1.48350657e-02 7.14719742e-03 1.45389064e-02 5.92786293e-03\n",
      " 4.07400049e-02 1.66239791e-02 6.24976015e-02 4.46808955e-02\n",
      " 1.07841676e-02 2.38262852e-01 1.28283747e-02 3.77850859e-02\n",
      " 1.00000000e+00 1.60707566e-02 8.73575143e-03 7.74927424e-03\n",
      " 6.19118305e-02 1.72743035e-02 1.56082273e-02 2.17003998e-03\n",
      " 1.66525585e-02 1.51659349e-03 4.60259112e-03 4.16309224e-03\n",
      " 1.81104637e-03 6.73038764e-03 9.17916877e-03 6.68426744e-02\n",
      " 2.36733037e-02 3.67288096e-03 9.08221863e-03 6.88337168e-03\n",
      " 1.29666076e-02 4.12694133e-03 5.15520694e-03 1.73723660e-02\n",
      " 1.36624114e-02 1.33420904e-01 3.37665846e-03 1.18371827e-02\n",
      " 9.10742313e-03 9.19635941e-04 8.41327781e-02 2.75337143e-03\n",
      " 0.00000000e+00 1.15121886e-01 8.37709910e-03 5.19133762e-02\n",
      " 1.00201828e-02 9.09624922e-04 2.38380557e-02 3.69345917e-03\n",
      " 2.75410076e-02 9.68568587e-03 7.92844872e-03 1.07675079e-02]' has dtype incompatible with int64, please explicitly cast to a compatible dtype first.\n",
      "  normalized_df.loc[mask, 'Value'] = min_max_normalize(df_long.loc[mask, 'Value'])\n"
     ]
    },
    {
     "name": "stdout",
     "output_type": "stream",
     "text": [
      "Normalization complete! Saved as 'normalized_indiana_gdp.csv'.\n"
     ]
    }
   ],
   "source": [
    "import pandas as pd\n",
    "import numpy as np\n",
    "\n",
    "# Load the CSV dataset\n",
    "file_path = 'merged_indiana_gdp_long_format.csv'  # Adjust the path\n",
    "df = pd.read_csv(file_path)\n",
    "\n",
    "# Reshape the data: move the years from columns to rows\n",
    "df_long = pd.melt(df, id_vars=['GeoName', 'Description', 'Unit'], \n",
    "                  var_name='Year', value_name='Value')\n",
    "\n",
    "# Convert 'Year' column to numeric\n",
    "df_long['Year'] = pd.to_numeric(df_long['Year'])\n",
    "\n",
    "# Function to normalize using min-max scaling\n",
    "def min_max_normalize(series):\n",
    "    return (series - series.min()) / (series.max() - series.min())\n",
    "\n",
    "# Apply normalization by Description and Year\n",
    "normalized_df = df_long.copy()  # Copy to store normalized values\n",
    "\n",
    "# Loop through each unique description and year to normalize each county\n",
    "for description in df_long['Description'].unique():\n",
    "    for year in df_long['Year'].unique():  # Normalize for each year\n",
    "        # Filter for the specific description and year\n",
    "        mask = (df_long['Description'] == description) & (df_long['Year'] == year)\n",
    "        normalized_df.loc[mask, 'Value'] = min_max_normalize(df_long.loc[mask, 'Value'])\n",
    "\n",
    "# Reshape the data back to the original wide format (if needed)\n",
    "normalized_wide_df = normalized_df.pivot_table(index=['GeoName', 'Description', 'Unit'], \n",
    "                                               columns='Year', values='Value').reset_index()\n",
    "\n",
    "# Save the normalized dataset as a CSV file\n",
    "normalized_wide_df.to_csv('normalized_indiana_gdp.csv', index=False)\n",
    "\n",
    "print(\"Normalization complete! Saved as 'normalized_indiana_gdp.csv'.\")\n"
   ]
  }
 ],
 "metadata": {
  "kernelspec": {
   "display_name": "Python 3 (ipykernel)",
   "language": "python",
   "name": "python3"
  },
  "language_info": {
   "codemirror_mode": {
    "name": "ipython",
    "version": 3
   },
   "file_extension": ".py",
   "mimetype": "text/x-python",
   "name": "python",
   "nbconvert_exporter": "python",
   "pygments_lexer": "ipython3",
   "version": "3.11.4"
  }
 },
 "nbformat": 4,
 "nbformat_minor": 5
}
