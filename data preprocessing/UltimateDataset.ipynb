{
 "cells": [
  {
   "cell_type": "code",
   "execution_count": 2,
   "id": "f5d37a83-b5f5-44d3-90b8-49e6be20ab1b",
   "metadata": {},
   "outputs": [],
   "source": [
    "# !pip install pandas openpyxl"
   ]
  },
  {
   "cell_type": "code",
   "execution_count": 29,
   "id": "520de9d5-59c1-4cfb-a811-7cddec2fb685",
   "metadata": {},
   "outputs": [
    {
     "name": "stdout",
     "output_type": "stream",
     "text": [
      "\n",
      "Final DataFrame with counties having all specified descriptions:\n",
      "      GeoName                             Description                  Unit  \\\n",
      "0   Adams, IN  Personal income (thousands of dollars)  Thousands of dollars   \n",
      "3   Adams, IN                 Population (persons) 3/     Number of persons   \n",
      "13  Adams, IN                      Wages and salaries  Thousands of dollars   \n",
      "20  Adams, IN                        Total employment        Number of jobs   \n",
      "23  Allen, IN  Personal income (thousands of dollars)  Thousands of dollars   \n",
      "\n",
      "        2010      2011      2012      2013      2014      2015      2016  \\\n",
      "0     975855   1078250   1148069   1195806   1240585   1230903   1246090   \n",
      "3      34443     34371     34410     34658     34775     34967     35221   \n",
      "13    421960    427067    443977    466014    495729    517834    529545   \n",
      "20     18602     18826     19075     19360     20035     20382     20525   \n",
      "23  12343412  13205908  13835497  13873919  14660236  15449046  15815497   \n",
      "\n",
      "        2017      2018      2019      2020      2021      2022  \n",
      "0    1313620   1368525   1416503   1525950   1704186   1754820  \n",
      "3      35415     35571     35694     35852     35939     36068  \n",
      "13    574853    595303    608013    610007    658924    720382  \n",
      "20     21002     21371     20702     20152     20647     21285  \n",
      "23  16296639  17275592  17932613  19345409  21710667  22408673  \n"
     ]
    },
    {
     "name": "stderr",
     "output_type": "stream",
     "text": [
      "C:\\Users\\91903\\AppData\\Local\\Temp\\ipykernel_21108\\2070646280.py:18: SettingWithCopyWarning: \n",
      "A value is trying to be set on a copy of a slice from a DataFrame.\n",
      "Try using .loc[row_indexer,col_indexer] = value instead\n",
      "\n",
      "See the caveats in the documentation: https://pandas.pydata.org/pandas-docs/stable/user_guide/indexing.html#returning-a-view-versus-a-copy\n",
      "  filtered_df['Description'] = filtered_df['Description'].str.strip()\n"
     ]
    }
   ],
   "source": [
    "import pandas as pd\n",
    "\n",
    "# Load the Excel file\n",
    "file_path = 'indiana.xlsx'\n",
    "df = pd.read_excel(file_path, engine='openpyxl')\n",
    "\n",
    "# Convert column names to strings if they are not already\n",
    "df.columns = df.columns.astype(str)\n",
    "\n",
    "# Define the years to keep (as strings)\n",
    "years = list(map(str, range(2010, 2023)))\n",
    "columns_to_keep = ['GeoName', 'Description', 'Unit'] + years\n",
    "\n",
    "# Filter the DataFrame to keep only the selected columns\n",
    "filtered_df = df[columns_to_keep]\n",
    "\n",
    "# Remove leading/trailing spaces in Description column\n",
    "filtered_df['Description'] = filtered_df['Description'].str.strip()\n",
    "\n",
    "# Define the descriptions to keep\n",
    "descriptions_to_keep = [\n",
    "    'Personal income (thousands of dollars)',\n",
    "    'Population (persons) 3/',\n",
    "    'Wages and salaries',\n",
    "    'Total employment'\n",
    "]\n",
    "\n",
    "# Filter rows based on the exact Description column\n",
    "filtered_df = filtered_df[filtered_df['Description'].isin(descriptions_to_keep)]\n",
    "\n",
    "# Group by GeoName and aggregate descriptions\n",
    "def has_all_descriptions(group):\n",
    "    # Check which descriptions are present in the group\n",
    "    present_descriptions = set(group['Description'])\n",
    "    # Ensure the county has all of the specified descriptions\n",
    "    return set(descriptions_to_keep).issubset(present_descriptions)\n",
    "\n",
    "# Filter counties that have all specified descriptions\n",
    "counties_with_all_descriptions = filtered_df.groupby('GeoName').filter(has_all_descriptions)\n",
    "\n",
    "# Display the first few rows of the final DataFrame\n",
    "print(\"\\nFinal DataFrame with counties having all specified descriptions:\")\n",
    "print(counties_with_all_descriptions.head())\n",
    "\n",
    "# Save the final DataFrame to a new Excel file (optional)\n",
    "output_file_path = 'filtered_indiana_with_all_descriptions.xlsx'\n",
    "counties_with_all_descriptions.to_excel(output_file_path, index=False)\n"
   ]
  },
  {
   "cell_type": "code",
   "execution_count": 3,
   "id": "05949a49-2528-414d-bf6d-26d88fdd9867",
   "metadata": {},
   "outputs": [
    {
     "name": "stdout",
     "output_type": "stream",
     "text": [
      "Description          GeoName  Year  All industry total  \\\n",
      "0                  Adams, IN  2010            0.011770   \n",
      "12                 Allen, IN  2010            0.188605   \n",
      "24           Bartholomew, IN  2010            0.062879   \n",
      "36                Benton, IN  2010            0.002263   \n",
      "48             Blackford, IN  2010            0.001751   \n",
      "...                      ...   ...                 ...   \n",
      "1055          Washington, IN  2021            0.005751   \n",
      "1067               Wayne, IN  2021            0.028262   \n",
      "1079               Wells, IN  2021            0.010889   \n",
      "1091               White, IN  2021            0.010459   \n",
      "1103             Whitley, IN  2021            0.017505   \n",
      "\n",
      "Description  Personal income (thousands of dollars)  Population (persons) 3/  \\\n",
      "0                                          0.020184                 0.031551   \n",
      "12                                         0.322696                 0.389374   \n",
      "24                                         0.071691                 0.078648   \n",
      "36                                         0.002049                 0.003089   \n",
      "48                                         0.004628                 0.007447   \n",
      "...                                             ...                      ...   \n",
      "1055                                       0.016008                 0.022947   \n",
      "1067                                       0.045908                 0.062650   \n",
      "1079                                       0.017363                 0.022974   \n",
      "1091                                       0.015021                 0.019334   \n",
      "1103                                       0.023989                 0.029514   \n",
      "\n",
      "Description  Total employment  Wages and salaries  \n",
      "0                    0.024186            0.013208  \n",
      "12                   0.320691            0.253717  \n",
      "24                   0.071662            0.066276  \n",
      "36                   0.002693            0.001415  \n",
      "48                   0.004042            0.002463  \n",
      "...                       ...                 ...  \n",
      "1055                 0.010677            0.005091  \n",
      "1067                 0.046849            0.031368  \n",
      "1079                 0.016429            0.010785  \n",
      "1091                 0.014313            0.009251  \n",
      "1103                 0.021105            0.015791  \n",
      "\n",
      "[1104 rows x 7 columns]\n"
     ]
    }
   ],
   "source": [
    "import pandas as pd\n",
    "\n",
    "# Step 1: Load the data from your file\n",
    "file_path = 'normalized_indiana_gdp.csv'  # Replace with your actual file path if necessary\n",
    "df = pd.read_csv(file_path)\n",
    "\n",
    "# Step 2: Use `melt()` to reshape data so each year is a row\n",
    "df_melted = pd.melt(df, id_vars=['GeoName', 'Description'], var_name='Year', value_name='Value')\n",
    "\n",
    "# Step 3: Pivot the data to make each description a column\n",
    "df_pivot = df_melted.pivot_table(index=['GeoName', 'Year'], columns='Description', values='Value').reset_index()\n",
    "\n",
    "# Step 4: Sort by Year first, then by GeoName (county)\n",
    "df_sorted = df_pivot.sort_values(by=['Year', 'GeoName'])\n",
    "\n",
    "# Step 5: Display the resulting DataFrame (optional) or save the result to a CSV file\n",
    "print(df_sorted)\n",
    "\n",
    "# Optionally, you can save the result to a CSV file\n",
    "output_file_path = 'reshaped_counties_by_year.csv'  # Save path for the output CSV\n",
    "df_sorted.to_csv(output_file_path, index=False)\n"
   ]
  },
  {
   "cell_type": "code",
   "execution_count": null,
   "id": "3406ee12-0cbe-4467-8a44-6be004c0ae69",
   "metadata": {},
   "outputs": [],
   "source": []
  },
  {
   "cell_type": "code",
   "execution_count": null,
   "id": "1b423033-7289-4217-ab9c-7967b73fc532",
   "metadata": {},
   "outputs": [],
   "source": []
  },
  {
   "cell_type": "code",
   "execution_count": null,
   "id": "18791608-4321-43fd-a745-159b5f5a2c9e",
   "metadata": {},
   "outputs": [],
   "source": []
  },
  {
   "cell_type": "code",
   "execution_count": null,
   "id": "825cd216-8b1e-4145-8efb-6e206d50a00d",
   "metadata": {},
   "outputs": [],
   "source": []
  },
  {
   "cell_type": "code",
   "execution_count": null,
   "id": "e88490b5-4e21-4d87-b54a-0f4699eb7043",
   "metadata": {},
   "outputs": [],
   "source": []
  },
  {
   "cell_type": "code",
   "execution_count": null,
   "id": "db134709-4311-4e42-a703-6d4330465b6b",
   "metadata": {},
   "outputs": [],
   "source": []
  },
  {
   "cell_type": "code",
   "execution_count": null,
   "id": "24b864d4-4264-454d-9ba5-9c72c983518e",
   "metadata": {},
   "outputs": [],
   "source": []
  }
 ],
 "metadata": {
  "kernelspec": {
   "display_name": "Python 3 (ipykernel)",
   "language": "python",
   "name": "python3"
  },
  "language_info": {
   "codemirror_mode": {
    "name": "ipython",
    "version": 3
   },
   "file_extension": ".py",
   "mimetype": "text/x-python",
   "name": "python",
   "nbconvert_exporter": "python",
   "pygments_lexer": "ipython3",
   "version": "3.11.4"
  }
 },
 "nbformat": 4,
 "nbformat_minor": 5
}
