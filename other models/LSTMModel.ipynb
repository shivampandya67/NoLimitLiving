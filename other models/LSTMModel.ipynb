{
 "cells": [
  {
   "cell_type": "code",
   "execution_count": 1,
   "id": "344a8e9c-b0b2-4f08-9e21-ecd54ed05364",
   "metadata": {},
   "outputs": [],
   "source": [
    "import torch\n",
    "import torch.nn as nn\n",
    "\n",
    "# Define the LSTM model class\n",
    "class LSTMModel(nn.Module):\n",
    "    def __init__(self, input_size, hidden_size, num_layers, output_size):\n",
    "        super(LSTMModel, self).__init__()\n",
    "        self.hidden_size = hidden_size\n",
    "        self.num_layers = num_layers\n",
    "        \n",
    "        # LSTM layer\n",
    "        self.lstm = nn.LSTM(input_size, hidden_size, num_layers, batch_first=True)\n",
    "        \n",
    "        # Fully connected layer\n",
    "        self.fc = nn.Linear(hidden_size, output_size)\n",
    "        \n",
    "        # Sigmoid activation for output\n",
    "        self.sigmoid = nn.Sigmoid()\n",
    "    \n",
    "    def forward(self, x):\n",
    "        # Initialize hidden and cell state\n",
    "        h0 = torch.zeros(self.num_layers, x.size(0), self.hidden_size).to(x.device)\n",
    "        c0 = torch.zeros(self.num_layers, x.size(0), self.hidden_size).to(x.device)\n",
    "        \n",
    "        # Forward propagate LSTM\n",
    "        out, _ = self.lstm(x, (h0, c0))\n",
    "        \n",
    "        # Take the output of the last time step\n",
    "        out = out[:, -1, :]\n",
    "        \n",
    "        # Pass through the fully connected layer and sigmoid activation\n",
    "        out = self.fc(out)\n",
    "        out = self.sigmoid(out)\n",
    "        \n",
    "        return out\n"
   ]
  },
  {
   "cell_type": "code",
   "execution_count": 6,
   "id": "78ab2a3d-883e-4564-895a-a4a04131fbfd",
   "metadata": {},
   "outputs": [
    {
     "name": "stdout",
     "output_type": "stream",
     "text": [
      "Index(['GeoName', 'Year', 'All industry total',\n",
      "       'Personal income (thousands of dollars)', 'Population (persons) 3/',\n",
      "       'Total employment', 'Wages and salaries'],\n",
      "      dtype='object')\n"
     ]
    }
   ],
   "source": [
    "# Load dataset from CSV file\n",
    "file_name = 'reshaped_counties_by_year.csv'\n",
    "data_df = pd.read_csv(file_name)\n",
    "\n",
    "# Print the column names to check\n",
    "print(data_df.columns)\n",
    "\n",
    "# Once you've found the correct column, replace 'normalized_values' with the correct column name\n",
    "# Example:\n",
    "# data = data_df['your_column_name'].values\n"
   ]
  },
  {
   "cell_type": "code",
   "execution_count": 7,
   "id": "de9e81b4-3497-4ffd-847f-2a02e128f5d1",
   "metadata": {},
   "outputs": [],
   "source": [
    "import torch\n",
    "from torch.utils.data import DataLoader, Dataset\n",
    "import pandas as pd\n",
    "\n",
    "# Load dataset from CSV file\n",
    "file_name = 'reshaped_counties_by_year.csv'\n",
    "data_df = pd.read_csv(file_name)\n",
    "\n",
    "# Select relevant columns for training\n",
    "relevant_columns = [\n",
    "    'All industry total',\n",
    "    'Personal income (thousands of dollars)',\n",
    "    'Population (persons) 3/',\n",
    "    'Total employment',\n",
    "    'Wages and salaries'\n",
    "]\n",
    "\n",
    "# Create a new DataFrame that only keeps the relevant columns along with Year for partitioning\n",
    "data_df = data_df[['Year'] + relevant_columns]\n",
    "\n",
    "# Split the dataset into training and testing based on the Year\n",
    "train_data = data_df[data_df['Year'] < 2019][relevant_columns].values  # Data up to 2018\n",
    "test_data = data_df[data_df['Year'] >= 2019][relevant_columns].values  # Data from 2019 onward\n",
    "\n",
    "# Custom dataset class for time series data\n",
    "class TimeSeriesDataset(Dataset):\n",
    "    def __init__(self, data, input_sequence_length, target_sequence_length):\n",
    "        self.data = data\n",
    "        self.input_seq_len = input_sequence_length\n",
    "        self.target_seq_len = target_sequence_length\n",
    "\n",
    "    def __len__(self):\n",
    "        return len(self.data) - self.input_seq_len - self.target_seq_len\n",
    "\n",
    "    def __getitem__(self, index):\n",
    "        # Get input sequence\n",
    "        input_seq = self.data[index : index + self.input_seq_len]\n",
    "        \n",
    "        # Get target value (next value after the input sequence)\n",
    "        target_seq = self.data[index + self.input_seq_len : index + self.input_seq_len + self.target_seq_len]\n",
    "        \n",
    "        return torch.tensor(input_seq, dtype=torch.float32), torch.tensor(target_seq, dtype=torch.float32)\n",
    "\n",
    "# Hyperparameters\n",
    "input_sequence_length = 12  # Predict based on the past 12 months\n",
    "target_sequence_length = 1   # Predict one future value\n",
    "\n",
    "# Create dataset and dataloader for training and testing\n",
    "train_dataset = TimeSeriesDataset(train_data, input_sequence_length, target_sequence_length)\n",
    "test_dataset = TimeSeriesDataset(test_data, input_sequence_length, target_sequence_length)\n",
    "\n",
    "train_loader = DataLoader(train_dataset, batch_size=32, shuffle=False)\n",
    "test_loader = DataLoader(test_dataset, batch_size=32, shuffle=False)\n"
   ]
  },
  {
   "cell_type": "code",
   "execution_count": 25,
   "id": "e140cf30-42f3-4e41-bfa4-362dc2145ff8",
   "metadata": {},
   "outputs": [],
   "source": [
    "# Hyperparameters\n",
    "num_epochs = 1000  # Number of epochs to train\n",
    "learning_rate = 0.001  # Learning rate\n",
    "\n",
    "# Instantiate the model, define the loss function and optimizer\n",
    "input_size = 5  # Number of input features\n",
    "hidden_size = 64  # Size of hidden layer\n",
    "num_layers = 2  # Number of LSTM layers\n",
    "output_size = 5  # We are predicting one value\n",
    "\n",
    "model = LSTMModel(input_size, hidden_size, num_layers, output_size)\n",
    "\n",
    "# Loss function and optimizer\n",
    "# Use MSELoss for multi-value regression\n",
    "criterion = nn.MSELoss()\n",
    "optimizer = torch.optim.Adam(model.parameters(), lr=learning_rate)\n"
   ]
  },
  {
   "cell_type": "code",
   "execution_count": 27,
   "id": "36945f32-42ae-4ac4-a1bc-a766942bcc61",
   "metadata": {},
   "outputs": [
    {
     "name": "stdout",
     "output_type": "stream",
     "text": [
      "Epoch [100/1000], Loss: 0.0003\n",
      "Epoch [200/1000], Loss: 0.0000\n",
      "Epoch [300/1000], Loss: 0.0033\n",
      "Epoch [400/1000], Loss: 0.0001\n",
      "Epoch [500/1000], Loss: 0.0001\n",
      "Epoch [600/1000], Loss: 0.0002\n",
      "Epoch [700/1000], Loss: 0.0001\n",
      "Epoch [800/1000], Loss: 0.0001\n",
      "Epoch [900/1000], Loss: 0.0000\n",
      "Epoch [1000/1000], Loss: 0.0000\n"
     ]
    }
   ],
   "source": [
    "# Training loop\n",
    "for epoch in range(num_epochs):\n",
    "    model.train()  # Set model to training mode\n",
    "    for inputs, targets in train_loader:\n",
    "        # Check shape before forward pass\n",
    "        # print(f\"Original input shape: {inputs.shape}\")\n",
    "        # print(f\"Original target shape: {targets.shape}\")  # Added for debugging\n",
    "        \n",
    "        # Zero the gradients\n",
    "        optimizer.zero_grad()\n",
    "        \n",
    "        # Forward pass\n",
    "        outputs = model(inputs)  # Directly pass inputs\n",
    "        \n",
    "        # Ensure targets have the correct shape\n",
    "        targets = targets.view(-1, 5)  # Ensure shape is (batch_size, 5)\n",
    "        \n",
    "        # Calculate loss\n",
    "        loss = criterion(outputs, targets)\n",
    "        \n",
    "        # Backward pass and optimization\n",
    "        loss.backward()\n",
    "        optimizer.step()\n",
    "    \n",
    "    # Print the loss every 100 epochs\n",
    "    if (epoch + 1) % 100 == 0:\n",
    "        print(f'Epoch [{epoch + 1}/{num_epochs}], Loss: {loss.item():.4f}')\n"
   ]
  },
  {
   "cell_type": "code",
   "execution_count": 29,
   "id": "e52136da-61e5-4e0a-85cf-db1e922c7ee7",
   "metadata": {},
   "outputs": [
    {
     "name": "stdout",
     "output_type": "stream",
     "text": [
      "Validation Loss: 0.0000\n"
     ]
    }
   ],
   "source": [
    "# Validation loop (with your test_loader as val_loader)\n",
    "model.eval()  # Set model to evaluation mode\n",
    "val_loss = 0.0\n",
    "\n",
    "with torch.no_grad():  # No gradient tracking during validation\n",
    "    for val_inputs, val_targets in test_loader:  # test_loader used as validation loader\n",
    "        val_outputs = model(val_inputs)\n",
    "        val_targets = val_targets.view(-1, 5)  # Adjust to match model's output\n",
    "        loss = criterion(val_outputs, val_targets)\n",
    "        val_loss += loss.item()\n",
    "\n",
    "# Calculate average validation loss\n",
    "val_loss /= len(test_loader)  # test_loader used as val_loader\n",
    "print(f'Validation Loss: {val_loss:.4f}')\n"
   ]
  },
  {
   "cell_type": "code",
   "execution_count": 38,
   "id": "dadff3ab-72e4-4e35-bb35-42604f7107a7",
   "metadata": {},
   "outputs": [],
   "source": [
    "import pickle\n",
    "\n",
    "# Assuming 'model' is your trained model\n",
    "with open('trained_model.pkl', 'wb') as file:  # Change the filename if needed\n",
    "    pickle.dump(model, file)\n"
   ]
  },
  {
   "cell_type": "code",
   "execution_count": 39,
   "id": "936b6343-ac03-4e0e-9a67-f757f0d3496d",
   "metadata": {},
   "outputs": [],
   "source": [
    "# Load your trained model\n",
    "with open('trained_model.pkl', 'rb') as file:  # Use the name you saved the model with\n",
    "    model = pickle.load(file)\n"
   ]
  },
  {
   "cell_type": "code",
   "execution_count": 43,
   "id": "16490be4-d47d-4d5b-b155-c9404d223f21",
   "metadata": {},
   "outputs": [
    {
     "name": "stdin",
     "output_type": "stream",
     "text": [
      "Enter the county name:  Adam\n"
     ]
    },
    {
     "name": "stdout",
     "output_type": "stream",
     "text": [
      "Please enter 3 feature values for the county (for the year 2022):\n"
     ]
    },
    {
     "name": "stdin",
     "output_type": "stream",
     "text": [
      "Feature 1:  1500\n",
      "Feature 2:  500\n",
      "Feature 3:  1200\n"
     ]
    },
    {
     "ename": "AttributeError",
     "evalue": "'LSTMModel' object has no attribute 'predict'",
     "output_type": "error",
     "traceback": [
      "\u001b[1;31m---------------------------------------------------------------------------\u001b[0m",
      "\u001b[1;31mAttributeError\u001b[0m                            Traceback (most recent call last)",
      "Cell \u001b[1;32mIn[43], line 34\u001b[0m\n\u001b[0;32m     32\u001b[0m county_name \u001b[38;5;241m=\u001b[39m \u001b[38;5;28minput\u001b[39m(\u001b[38;5;124m\"\u001b[39m\u001b[38;5;124mEnter the county name: \u001b[39m\u001b[38;5;124m\"\u001b[39m)  \u001b[38;5;66;03m# Get county name from user\u001b[39;00m\n\u001b[0;32m     33\u001b[0m county_features \u001b[38;5;241m=\u001b[39m get_user_input()  \u001b[38;5;66;03m# Get features from user\u001b[39;00m\n\u001b[1;32m---> 34\u001b[0m score \u001b[38;5;241m=\u001b[39m \u001b[43mget_county_score\u001b[49m\u001b[43m(\u001b[49m\u001b[43mcounty_features\u001b[49m\u001b[43m)\u001b[49m\n\u001b[0;32m     36\u001b[0m \u001b[38;5;28mprint\u001b[39m(\u001b[38;5;124mf\u001b[39m\u001b[38;5;124m\"\u001b[39m\u001b[38;5;124mThe predicted score for \u001b[39m\u001b[38;5;132;01m{\u001b[39;00mcounty_name\u001b[38;5;132;01m}\u001b[39;00m\u001b[38;5;124m in 2022 is: \u001b[39m\u001b[38;5;132;01m{\u001b[39;00mscore\u001b[38;5;132;01m:\u001b[39;00m\u001b[38;5;124m.2f\u001b[39m\u001b[38;5;132;01m}\u001b[39;00m\u001b[38;5;124m\"\u001b[39m)\n",
      "Cell \u001b[1;32mIn[43], line 17\u001b[0m, in \u001b[0;36mget_county_score\u001b[1;34m(county_features)\u001b[0m\n\u001b[0;32m     15\u001b[0m \u001b[38;5;28;01mdef\u001b[39;00m \u001b[38;5;21mget_county_score\u001b[39m(county_features):\n\u001b[0;32m     16\u001b[0m     input_data \u001b[38;5;241m=\u001b[39m np\u001b[38;5;241m.\u001b[39marray(county_features)\u001b[38;5;241m.\u001b[39mreshape(\u001b[38;5;241m1\u001b[39m, \u001b[38;5;241m-\u001b[39m\u001b[38;5;241m1\u001b[39m)  \u001b[38;5;66;03m# Reshape for model input\u001b[39;00m\n\u001b[1;32m---> 17\u001b[0m     prediction \u001b[38;5;241m=\u001b[39m \u001b[43mmodel\u001b[49m\u001b[38;5;241;43m.\u001b[39;49m\u001b[43mpredict\u001b[49m(input_data)  \u001b[38;5;66;03m# Get prediction for the county\u001b[39;00m\n\u001b[0;32m     18\u001b[0m     normalized_score \u001b[38;5;241m=\u001b[39m normalize_prediction(prediction)  \u001b[38;5;66;03m# Normalize the prediction\u001b[39;00m\n\u001b[0;32m     19\u001b[0m     \u001b[38;5;28;01mreturn\u001b[39;00m normalized_score[\u001b[38;5;241m0\u001b[39m]\n",
      "File \u001b[1;32m~\\anaconda3\\envs\\py311\\Lib\\site-packages\\torch\\nn\\modules\\module.py:1614\u001b[0m, in \u001b[0;36mModule.__getattr__\u001b[1;34m(self, name)\u001b[0m\n\u001b[0;32m   1612\u001b[0m     \u001b[38;5;28;01mif\u001b[39;00m name \u001b[38;5;129;01min\u001b[39;00m modules:\n\u001b[0;32m   1613\u001b[0m         \u001b[38;5;28;01mreturn\u001b[39;00m modules[name]\n\u001b[1;32m-> 1614\u001b[0m \u001b[38;5;28;01mraise\u001b[39;00m \u001b[38;5;167;01mAttributeError\u001b[39;00m(\u001b[38;5;124m\"\u001b[39m\u001b[38;5;124m'\u001b[39m\u001b[38;5;132;01m{}\u001b[39;00m\u001b[38;5;124m'\u001b[39m\u001b[38;5;124m object has no attribute \u001b[39m\u001b[38;5;124m'\u001b[39m\u001b[38;5;132;01m{}\u001b[39;00m\u001b[38;5;124m'\u001b[39m\u001b[38;5;124m\"\u001b[39m\u001b[38;5;241m.\u001b[39mformat(\n\u001b[0;32m   1615\u001b[0m     \u001b[38;5;28mtype\u001b[39m(\u001b[38;5;28mself\u001b[39m)\u001b[38;5;241m.\u001b[39m\u001b[38;5;18m__name__\u001b[39m, name))\n",
      "\u001b[1;31mAttributeError\u001b[0m: 'LSTMModel' object has no attribute 'predict'"
     ]
    }
   ],
   "source": [
    "import numpy as np\n",
    "import pickle  # Assuming you're using pickle to save/load your model\n",
    "\n",
    "# Load your trained model (update the filename as needed)\n",
    "with open('trained_model.pkl', 'rb') as file:\n",
    "    model = pickle.load(file)\n",
    "\n",
    "def normalize_prediction(prediction):\n",
    "    # Assuming the model outputs a single prediction\n",
    "    min_val = 0  # Assuming the minimum score is 0\n",
    "    max_val = 1  # Assuming the maximum score is 1\n",
    "    normalized = (prediction - min_val) / (max_val - min_val)\n",
    "    return normalized\n",
    "\n",
    "def get_county_score(county_features):\n",
    "    input_data = np.array(county_features).reshape(1, -1)  # Reshape for model input\n",
    "    prediction = model.predict(input_data)  # Get prediction for the county\n",
    "    normalized_score = normalize_prediction(prediction)  # Normalize the prediction\n",
    "    return normalized_score[0]  # Return the single score\n",
    "\n",
    "# Function to gather user input for county features\n",
    "def get_user_input():\n",
    "    features = []\n",
    "    num_features = 3  # Change this to the number of features your model requires\n",
    "    print(f\"Please enter {num_features} feature values for the county (for the year 2022):\")\n",
    "    for i in range(num_features):\n",
    "        value = float(input(f\"Feature {i + 1}: \"))  # Assuming the features are numerical\n",
    "        features.append(value)\n",
    "    return features\n",
    "\n",
    "# Example usage\n",
    "county_name = input(\"Enter the county name: \")  # Get county name from user\n",
    "county_features = get_user_input()  # Get features from user\n",
    "score = get_county_score(county_features)\n",
    "\n",
    "print(f\"The predicted score for {county_name} in 2022 is: {score:.2f}\")\n"
   ]
  },
  {
   "cell_type": "code",
   "execution_count": null,
   "id": "81aba395-67aa-4aa5-ba36-8f55d070f0a4",
   "metadata": {},
   "outputs": [],
   "source": []
  }
 ],
 "metadata": {
  "kernelspec": {
   "display_name": "Python 3 (ipykernel)",
   "language": "python",
   "name": "python3"
  },
  "language_info": {
   "codemirror_mode": {
    "name": "ipython",
    "version": 3
   },
   "file_extension": ".py",
   "mimetype": "text/x-python",
   "name": "python",
   "nbconvert_exporter": "python",
   "pygments_lexer": "ipython3",
   "version": "3.11.4"
  }
 },
 "nbformat": 4,
 "nbformat_minor": 5
}
